{
 "cells": [
  {
   "cell_type": "code",
   "execution_count": 1,
   "id": "36ba6f37",
   "metadata": {},
   "outputs": [],
   "source": [
    "import pyaudio\n",
    "import struct\n",
    "import numpy as np\n",
    "import matplotlib.pyplot as plt\n",
    "from scipy.fftpack import fft\n",
    "from scipy import signal\n",
    "\n",
    "%matplotlib qt\n",
    "\n"
   ]
  },
  {
   "cell_type": "code",
   "execution_count": 2,
   "id": "2af73c82",
   "metadata": {},
   "outputs": [],
   "source": [
    "CHUNK = 2400\n",
    "#CHUNK = 800\n",
    "FORMAT = pyaudio.paInt16\n",
    "CHANNELS = 2 # tine minte asta\n",
    "RATE = 48000"
   ]
  },
  {
   "cell_type": "code",
   "execution_count": 3,
   "id": "2b6fad5e",
   "metadata": {},
   "outputs": [],
   "source": [
    "p = pyaudio.PyAudio()\n",
    "\n",
    "stream = p.open(\n",
    "    format=FORMAT,\n",
    "    channels=CHANNELS,\n",
    "    rate=RATE,\n",
    "    input=True,\n",
    "    output=False,\n",
    "    frames_per_buffer=CHUNK,\n",
    "    input_device_index=12\n",
    ")"
   ]
  },
  {
   "cell_type": "code",
   "execution_count": null,
   "id": "e68e0c74",
   "metadata": {},
   "outputs": [],
   "source": [
    "fig, (ax, ax2) = plt.subplots(2)\n",
    "x = np.arange(0, 2 * CHUNK * CHANNELS, 2)\n",
    "x_fft = np.linspace(0, RATE, CHUNK * 2)\n",
    "\n",
    "line, = ax.plot(x, np.random.rand(CHUNK * 2), '-', lw=2)\n",
    "line_fft, = ax2.semilogx(x_fft, np.random.rand(CHUNK * 2), '-', lw=2)\n",
    "ax.set_ylim(0, 8000)\n",
    "ax.set_xlim(0, CHUNK * 2)\n",
    "\n",
    "ax2.set_xlim(20, RATE/4)\n",
    "\n",
    "while True:\n",
    "    data = stream.read(CHUNK)\n",
    "    #data_int = np.array(struct.unpack(str(CHUNK * 2 * CHANNELS) + 'B', data), dtype='b')[::2] + 255\n",
    "    data_int = np.array(struct.unpack(str(CHUNK * CHANNELS) + 'h', data))\n",
    "    line.set_ydata(data_int)\n",
    "    y_fft = fft(data_int)\n",
    "    line_fft.set_ydata(np.abs(y_fft[0:CHUNK * 2]) * 2 / (1000 * CHUNK * 2))\n",
    "    fig.canvas.draw()\n",
    "    fig.canvas.flush_events()\n",
    "    \n",
    "#len(data)"
   ]
  },
  {
   "cell_type": "code",
   "execution_count": null,
   "id": "97071c50",
   "metadata": {},
   "outputs": [],
   "source": [
    "host_info = p.get_host_api_info_by_index(0)    \n",
    "device_count = host_info.get('deviceCount')\n",
    "devices = []\n",
    "\n",
    "# iterate between devices:\n",
    "for i in range(0, device_count):\n",
    "    device = p.get_device_info_by_host_api_device_index(0, i)\n",
    "    devices.append(device['name'])\n",
    "\n",
    "print(devices)"
   ]
  },
  {
   "cell_type": "code",
   "execution_count": null,
   "id": "294c0f79",
   "metadata": {},
   "outputs": [],
   "source": [
    "cock = [p.get_device_info_by_index(i) for i in range(p.get_device_count())]\n",
    "#print(cock)\n",
    "\n",
    "for i in range(len(cock)):\n",
    "    print(\"{}: {}, input: {}, output: {}, sample: {}\".format(cock[i]['index'], cock[i]['name'], cock[i]['maxInputChannels'], cock[i]['maxOutputChannels'], cock[i]['defaultSampleRate']))"
   ]
  },
  {
   "cell_type": "code",
   "execution_count": null,
   "id": "fb34cf86",
   "metadata": {},
   "outputs": [],
   "source": [
    "fig, (ax, ax2) = plt.subplots(2)\n",
    "x = np.arange(0, 2 * CHUNK * CHANNELS, 2)\n",
    "xf = np.linspace(0, RATE, CHUNK * CHANNELS)\n",
    "line, = ax.plot(x, np.random.rand(CHUNK * CHANNELS), '-', lw=2)\n",
    "line_fft, = ax2.plot(xf, np.random.rand(CHUNK * CHANNELS), '-', lw=2)\n",
    "ax.set_ylim(-1, 1)\n",
    "ax.set_xlim(0, CHUNK * 2 * CHANNELS)\n",
    "\n",
    "ax2.set_xlim(0, RATE/4)\n",
    "\n",
    "\n",
    "while True:\n",
    "    data = stream.read(CHUNK)\n",
    "    data_int = (np.array(struct.unpack(str(CHUNK * CHANNELS) + 'h', data))) + 1 \n",
    "    data_int = data_int / max(abs(data_int))\n",
    "    line.set_ydata(data_int)\n",
    "\n",
    "    yf = fft(data_int)\n",
    "    yf = np.abs(yf / max(yf))\n",
    "    #line_fft.set_ydata(np.abs(yf[0:CHUNK*CHANNELS]) / (128 * CHUNK * CHANNELS))\n",
    "    line_fft.set_ydata(yf)\n",
    "    #del yf\n",
    "    fig.canvas.draw()\n",
    "    #plt.pause(0.005)\n",
    "    fig.canvas.flush_events()\n",
    "    "
   ]
  },
  {
   "cell_type": "code",
   "execution_count": 5,
   "id": "3c094bee",
   "metadata": {},
   "outputs": [
    {
     "ename": "SyntaxError",
     "evalue": "invalid syntax (Temp/ipykernel_8068/2436897921.py, line 2)",
     "output_type": "error",
     "traceback": [
      "\u001b[1;36m  File \u001b[1;32m\"C:\\Users\\STOIAN~1\\AppData\\Local\\Temp/ipykernel_8068/2436897921.py\"\u001b[1;36m, line \u001b[1;32m2\u001b[0m\n\u001b[1;33m    white True:\u001b[0m\n\u001b[1;37m          ^\u001b[0m\n\u001b[1;31mSyntaxError\u001b[0m\u001b[1;31m:\u001b[0m invalid syntax\n"
     ]
    }
   ],
   "source": [
    "fig, ax = plt.subplots(1)\n",
    "while True:\n",
    "    data = stream.read(CHUNK)\n",
    "    data_int = (np.array(struct.unpack(str(CHUNK * CHANNELS) + 'h', data))) + 1\n",
    "    f, t, Sxx = signal.spectrogram(data_int)\n",
    "    plt.pcolormesh(t, f, Sxx, shading='gouraud')\n",
    "    plt.ylabel('Frequency [Hz]')\n",
    "    plt.xlabel('Time [sec]')\n",
    "    plt.show()\n",
    "    "
   ]
  },
  {
   "cell_type": "code",
   "execution_count": null,
   "id": "3676f41a",
   "metadata": {},
   "outputs": [],
   "source": [
    "from ctypes import cast, POINTER\n",
    "from comtypes import CLSCTX_ALL\n",
    "from pycaw.pycaw import AudioUtilities, IAudioEndpointVolume\n",
    "import math\n"
   ]
  },
  {
   "cell_type": "code",
   "execution_count": null,
   "id": "0d3ba5f5",
   "metadata": {},
   "outputs": [],
   "source": [
    "devices = AudioUtilities.GetSpeakers()\n",
    "interface = devices.Activate(\n",
    "    IAudioEndpointVolume._iid_, CLSCTX_ALL, None)\n",
    "volume = cast(interface, POINTER(IAudioEndpointVolume))\n",
    "\n",
    "currentVolumeDb = volume.GetMasterVolumeLevel()\n",
    "print(currentVolumeDb)"
   ]
  }
 ],
 "metadata": {
  "kernelspec": {
   "display_name": "Python 3 (ipykernel)",
   "language": "python",
   "name": "python3"
  },
  "language_info": {
   "codemirror_mode": {
    "name": "ipython",
    "version": 3
   },
   "file_extension": ".py",
   "mimetype": "text/x-python",
   "name": "python",
   "nbconvert_exporter": "python",
   "pygments_lexer": "ipython3",
   "version": "3.9.6"
  }
 },
 "nbformat": 4,
 "nbformat_minor": 5
}
