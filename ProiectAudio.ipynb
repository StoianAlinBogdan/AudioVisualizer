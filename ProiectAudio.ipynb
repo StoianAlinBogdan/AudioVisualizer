{
 "cells": [
  {
   "cell_type": "code",
   "execution_count": 1,
   "id": "36ba6f37",
   "metadata": {},
   "outputs": [],
   "source": [
    "import pyaudio\n",
    "import struct\n",
    "import numpy as np\n",
    "import matplotlib.pyplot as plt\n",
    "from scipy.fftpack import fft\n",
    "from scipy import signal\n",
    "\n",
    "%matplotlib qt\n",
    "\n"
   ]
  },
  {
   "cell_type": "code",
   "execution_count": 2,
   "id": "2af73c82",
   "metadata": {},
   "outputs": [],
   "source": [
    "CHUNK = 2400\n",
    "#CHUNK = 800\n",
    "FORMAT = pyaudio.paInt16\n",
    "CHANNELS = 2 # tine minte asta\n",
    "RATE = 48000"
   ]
  },
  {
   "cell_type": "code",
   "execution_count": 3,
   "id": "2b6fad5e",
   "metadata": {},
   "outputs": [],
   "source": [
    "p = pyaudio.PyAudio()\n",
    "\n",
    "stream = p.open(\n",
    "    format=FORMAT,\n",
    "    channels=CHANNELS,\n",
    "    rate=RATE,\n",
    "    input=True,\n",
    "    output=False,\n",
    "    frames_per_buffer=CHUNK,\n",
    "    input_device_index=12\n",
    ")"
   ]
  },
  {
   "cell_type": "code",
   "execution_count": null,
   "id": "e68e0c74",
   "metadata": {},
   "outputs": [],
   "source": [
    "fig, (ax, ax2) = plt.subplots(2)\n",
    "x = np.arange(0, 2 * CHUNK * CHANNELS, 2)\n",
    "x_fft = np.linspace(0, RATE, CHUNK * 2)\n",
    "\n",
    "line, = ax.plot(x, np.random.rand(CHUNK * 2), '-', lw=2)\n",
    "line_fft, = ax2.semilogx(x_fft, np.random.rand(CHUNK * 2), '-', lw=2)\n",
    "ax.set_ylim(0, 8000)\n",
    "ax.set_xlim(0, CHUNK * 2)\n",
    "\n",
    "ax2.set_xlim(20, RATE/4)\n",
    "\n",
    "while True:\n",
    "    data = stream.read(CHUNK)\n",
    "    #data_int = np.array(struct.unpack(str(CHUNK * 2 * CHANNELS) + 'B', data), dtype='b')[::2] + 255\n",
    "    data_int = np.array(struct.unpack(str(CHUNK * CHANNELS) + 'h', data))\n",
    "    line.set_ydata(data_int)\n",
    "    y_fft = fft(data_int)\n",
    "    line_fft.set_ydata(np.abs(y_fft[0:CHUNK * 2]) * 2 / (1000 * CHUNK * 2))\n",
    "    fig.canvas.draw()\n",
    "    fig.canvas.flush_events()\n",
    "    \n",
    "#len(data)"
   ]
  },
  {
   "cell_type": "code",
   "execution_count": 6,
   "id": "97071c50",
   "metadata": {},
   "outputs": [
    {
     "name": "stdout",
     "output_type": "stream",
     "text": [
      "['Microsoft Sound Mapper - Input', 'Microphone Array (Realtek High ', 'Stereo Mix (Realtek High Defini', 'Microsoft Sound Mapper - Output', 'Speakers (Realtek High Definiti']\n"
     ]
    }
   ],
   "source": [
    "host_info = p.get_host_api_info_by_index(0)    \n",
    "device_count = host_info.get('deviceCount')\n",
    "devices = []\n",
    "\n",
    "# iterate between devices:\n",
    "for i in range(0, device_count):\n",
    "    device = p.get_device_info_by_host_api_device_index(0, i)\n",
    "    devices.append(device['name'])\n",
    "\n",
    "print(devices)"
   ]
  },
  {
   "cell_type": "code",
   "execution_count": 7,
   "id": "294c0f79",
   "metadata": {},
   "outputs": [
    {
     "name": "stdout",
     "output_type": "stream",
     "text": [
      "0: Microsoft Sound Mapper - Input, input: 2, output: 0, sample: 44100.0\n",
      "1: Microphone Array (Realtek High , input: 2, output: 0, sample: 44100.0\n",
      "2: Stereo Mix (Realtek High Defini, input: 2, output: 0, sample: 44100.0\n",
      "3: Microsoft Sound Mapper - Output, input: 0, output: 2, sample: 44100.0\n",
      "4: Speakers (Realtek High Definiti, input: 0, output: 2, sample: 44100.0\n",
      "5: Primary Sound Capture Driver, input: 2, output: 0, sample: 44100.0\n",
      "6: Microphone Array (Realtek High Definition Audio), input: 2, output: 0, sample: 44100.0\n",
      "7: Stereo Mix (Realtek High Definition Audio), input: 2, output: 0, sample: 44100.0\n",
      "8: Primary Sound Driver, input: 0, output: 2, sample: 44100.0\n",
      "9: Speakers (Realtek High Definition Audio), input: 0, output: 2, sample: 44100.0\n",
      "10: Speakers (Realtek High Definition Audio), input: 0, output: 2, sample: 48000.0\n",
      "11: Microphone Array (Realtek High Definition Audio), input: 2, output: 0, sample: 48000.0\n",
      "12: Stereo Mix (Realtek High Definition Audio), input: 2, output: 0, sample: 48000.0\n",
      "13: Speakers (Realtek HD Audio output), input: 0, output: 2, sample: 44100.0\n",
      "14: Stereo Mix (Realtek HD Audio Stereo input), input: 2, output: 0, sample: 48000.0\n",
      "15: Microphone Array (Realtek HD Audio Mic input), input: 2, output: 0, sample: 44100.0\n"
     ]
    }
   ],
   "source": [
    "cock = [p.get_device_info_by_index(i) for i in range(p.get_device_count())]\n",
    "#print(cock)\n",
    "\n",
    "for i in range(len(cock)):\n",
    "    print(\"{}: {}, input: {}, output: {}, sample: {}\".format(cock[i]['index'], cock[i]['name'], cock[i]['maxInputChannels'], cock[i]['maxOutputChannels'], cock[i]['defaultSampleRate']))"
   ]
  },
  {
   "cell_type": "code",
   "execution_count": null,
   "id": "fb34cf86",
   "metadata": {},
   "outputs": [],
   "source": [
    "fig, (ax, ax2) = plt.subplots(2)\n",
    "x = np.arange(0, 2 * CHUNK * CHANNELS, 2)\n",
    "xf = np.linspace(0, RATE, CHUNK * CHANNELS)\n",
    "line, = ax.plot(x, np.random.rand(CHUNK * CHANNELS), '-', lw=2)\n",
    "line_fft, = ax2.plot(xf, np.random.rand(CHUNK * CHANNELS), '-', lw=2)\n",
    "ax.set_ylim(-1, 1)\n",
    "ax.set_xlim(0, CHUNK * 2 * CHANNELS)\n",
    "\n",
    "ax2.set_xlim(0, RATE/4)\n",
    "\n",
    "\n",
    "while True:\n",
    "    data = stream.read(CHUNK)\n",
    "    data_int = (np.array(struct.unpack(str(CHUNK * CHANNELS) + 'h', data))) + 1 \n",
    "    data_int = data_int / max(abs(data_int))\n",
    "    line.set_ydata(data_int)\n",
    "\n",
    "    yf = fft(data_int)\n",
    "    yf = np.abs(yf / max(yf))\n",
    "    #line_fft.set_ydata(np.abs(yf[0:CHUNK*CHANNELS]) / (128 * CHUNK * CHANNELS))\n",
    "    line_fft.set_ydata(yf)\n",
    "    #del yf\n",
    "    fig.canvas.draw()\n",
    "    #plt.pause(0.005)\n",
    "    fig.canvas.flush_events()\n",
    "    "
   ]
  },
  {
   "cell_type": "code",
   "execution_count": 5,
   "id": "b89dc396",
   "metadata": {},
   "outputs": [
    {
     "ename": "KeyboardInterrupt",
     "evalue": "",
     "output_type": "error",
     "traceback": [
      "\u001b[1;31m---------------------------------------------------------------------------\u001b[0m",
      "\u001b[1;31mKeyboardInterrupt\u001b[0m                         Traceback (most recent call last)",
      "\u001b[1;32mC:\\Users\\STOIAN~1\\AppData\\Local\\Temp/ipykernel_15268/1653302301.py\u001b[0m in \u001b[0;36m<module>\u001b[1;34m\u001b[0m\n\u001b[0;32m      6\u001b[0m     \u001b[0mdata\u001b[0m \u001b[1;33m=\u001b[0m \u001b[0mstream\u001b[0m\u001b[1;33m.\u001b[0m\u001b[0mread\u001b[0m\u001b[1;33m(\u001b[0m\u001b[0mCHUNK\u001b[0m\u001b[1;33m)\u001b[0m\u001b[1;33m\u001b[0m\u001b[1;33m\u001b[0m\u001b[0m\n\u001b[0;32m      7\u001b[0m     \u001b[0mdata_int\u001b[0m \u001b[1;33m=\u001b[0m \u001b[1;33m(\u001b[0m\u001b[0mnp\u001b[0m\u001b[1;33m.\u001b[0m\u001b[0marray\u001b[0m\u001b[1;33m(\u001b[0m\u001b[0mstruct\u001b[0m\u001b[1;33m.\u001b[0m\u001b[0munpack\u001b[0m\u001b[1;33m(\u001b[0m\u001b[0mstr\u001b[0m\u001b[1;33m(\u001b[0m\u001b[0mCHUNK\u001b[0m \u001b[1;33m*\u001b[0m \u001b[0mCHANNELS\u001b[0m\u001b[1;33m)\u001b[0m \u001b[1;33m+\u001b[0m \u001b[1;34m'h'\u001b[0m\u001b[1;33m,\u001b[0m \u001b[0mdata\u001b[0m\u001b[1;33m)\u001b[0m\u001b[1;33m)\u001b[0m\u001b[1;33m)\u001b[0m \u001b[1;33m+\u001b[0m \u001b[1;36m1\u001b[0m\u001b[1;33m\u001b[0m\u001b[1;33m\u001b[0m\u001b[0m\n\u001b[1;32m----> 8\u001b[1;33m     \u001b[0mf\u001b[0m\u001b[1;33m,\u001b[0m \u001b[0mt\u001b[0m\u001b[1;33m,\u001b[0m \u001b[0mSxx\u001b[0m \u001b[1;33m=\u001b[0m \u001b[0msignal\u001b[0m\u001b[1;33m.\u001b[0m\u001b[0mspectrogram\u001b[0m\u001b[1;33m(\u001b[0m\u001b[0mdata_int\u001b[0m\u001b[1;33m)\u001b[0m\u001b[1;33m\u001b[0m\u001b[1;33m\u001b[0m\u001b[0m\n\u001b[0m\u001b[0;32m      9\u001b[0m     \u001b[0mplt\u001b[0m\u001b[1;33m.\u001b[0m\u001b[0mpcolormesh\u001b[0m\u001b[1;33m(\u001b[0m\u001b[0mt\u001b[0m\u001b[1;33m,\u001b[0m \u001b[0mf\u001b[0m\u001b[1;33m,\u001b[0m \u001b[0mSxx\u001b[0m\u001b[1;33m,\u001b[0m \u001b[0mshading\u001b[0m\u001b[1;33m=\u001b[0m\u001b[1;34m'gouraud'\u001b[0m\u001b[1;33m)\u001b[0m\u001b[1;33m\u001b[0m\u001b[1;33m\u001b[0m\u001b[0m\n\u001b[0;32m     10\u001b[0m \u001b[1;33m\u001b[0m\u001b[0m\n",
      "\u001b[1;32m~\\AppData\\Roaming\\Python\\Python39\\site-packages\\scipy\\signal\\spectral.py\u001b[0m in \u001b[0;36mspectrogram\u001b[1;34m(x, fs, window, nperseg, noverlap, nfft, detrend, return_onesided, scaling, axis, mode)\u001b[0m\n\u001b[0;32m    751\u001b[0m \u001b[1;33m\u001b[0m\u001b[0m\n\u001b[0;32m    752\u001b[0m     \u001b[1;32mif\u001b[0m \u001b[0mmode\u001b[0m \u001b[1;33m==\u001b[0m \u001b[1;34m'psd'\u001b[0m\u001b[1;33m:\u001b[0m\u001b[1;33m\u001b[0m\u001b[1;33m\u001b[0m\u001b[0m\n\u001b[1;32m--> 753\u001b[1;33m         freqs, time, Sxx = _spectral_helper(x, x, fs, window, nperseg,\n\u001b[0m\u001b[0;32m    754\u001b[0m                                             \u001b[0mnoverlap\u001b[0m\u001b[1;33m,\u001b[0m \u001b[0mnfft\u001b[0m\u001b[1;33m,\u001b[0m \u001b[0mdetrend\u001b[0m\u001b[1;33m,\u001b[0m\u001b[1;33m\u001b[0m\u001b[1;33m\u001b[0m\u001b[0m\n\u001b[0;32m    755\u001b[0m                                             \u001b[0mreturn_onesided\u001b[0m\u001b[1;33m,\u001b[0m \u001b[0mscaling\u001b[0m\u001b[1;33m,\u001b[0m \u001b[0maxis\u001b[0m\u001b[1;33m,\u001b[0m\u001b[1;33m\u001b[0m\u001b[1;33m\u001b[0m\u001b[0m\n",
      "\u001b[1;32m~\\AppData\\Roaming\\Python\\Python39\\site-packages\\scipy\\signal\\spectral.py\u001b[0m in \u001b[0;36m_spectral_helper\u001b[1;34m(x, y, fs, window, nperseg, noverlap, nfft, detrend, return_onesided, scaling, axis, mode, boundary, padded)\u001b[0m\n\u001b[0;32m   1832\u001b[0m \u001b[1;33m\u001b[0m\u001b[0m\n\u001b[0;32m   1833\u001b[0m     \u001b[1;31m# Perform the windowed FFTs\u001b[0m\u001b[1;33m\u001b[0m\u001b[1;33m\u001b[0m\u001b[1;33m\u001b[0m\u001b[0m\n\u001b[1;32m-> 1834\u001b[1;33m     \u001b[0mresult\u001b[0m \u001b[1;33m=\u001b[0m \u001b[0m_fft_helper\u001b[0m\u001b[1;33m(\u001b[0m\u001b[0mx\u001b[0m\u001b[1;33m,\u001b[0m \u001b[0mwin\u001b[0m\u001b[1;33m,\u001b[0m \u001b[0mdetrend_func\u001b[0m\u001b[1;33m,\u001b[0m \u001b[0mnperseg\u001b[0m\u001b[1;33m,\u001b[0m \u001b[0mnoverlap\u001b[0m\u001b[1;33m,\u001b[0m \u001b[0mnfft\u001b[0m\u001b[1;33m,\u001b[0m \u001b[0msides\u001b[0m\u001b[1;33m)\u001b[0m\u001b[1;33m\u001b[0m\u001b[1;33m\u001b[0m\u001b[0m\n\u001b[0m\u001b[0;32m   1835\u001b[0m \u001b[1;33m\u001b[0m\u001b[0m\n\u001b[0;32m   1836\u001b[0m     \u001b[1;32mif\u001b[0m \u001b[1;32mnot\u001b[0m \u001b[0msame_data\u001b[0m\u001b[1;33m:\u001b[0m\u001b[1;33m\u001b[0m\u001b[1;33m\u001b[0m\u001b[0m\n",
      "\u001b[1;32m~\\AppData\\Roaming\\Python\\Python39\\site-packages\\scipy\\signal\\spectral.py\u001b[0m in \u001b[0;36m_fft_helper\u001b[1;34m(x, win, detrend_func, nperseg, noverlap, nfft, sides)\u001b[0m\n\u001b[0;32m   1917\u001b[0m         \u001b[0mresult\u001b[0m \u001b[1;33m=\u001b[0m \u001b[0mresult\u001b[0m\u001b[1;33m.\u001b[0m\u001b[0mreal\u001b[0m\u001b[1;33m\u001b[0m\u001b[1;33m\u001b[0m\u001b[0m\n\u001b[0;32m   1918\u001b[0m         \u001b[0mfunc\u001b[0m \u001b[1;33m=\u001b[0m \u001b[0msp_fft\u001b[0m\u001b[1;33m.\u001b[0m\u001b[0mrfft\u001b[0m\u001b[1;33m\u001b[0m\u001b[1;33m\u001b[0m\u001b[0m\n\u001b[1;32m-> 1919\u001b[1;33m     \u001b[0mresult\u001b[0m \u001b[1;33m=\u001b[0m \u001b[0mfunc\u001b[0m\u001b[1;33m(\u001b[0m\u001b[0mresult\u001b[0m\u001b[1;33m,\u001b[0m \u001b[0mn\u001b[0m\u001b[1;33m=\u001b[0m\u001b[0mnfft\u001b[0m\u001b[1;33m)\u001b[0m\u001b[1;33m\u001b[0m\u001b[1;33m\u001b[0m\u001b[0m\n\u001b[0m\u001b[0;32m   1920\u001b[0m \u001b[1;33m\u001b[0m\u001b[0m\n\u001b[0;32m   1921\u001b[0m     \u001b[1;32mreturn\u001b[0m \u001b[0mresult\u001b[0m\u001b[1;33m\u001b[0m\u001b[1;33m\u001b[0m\u001b[0m\n",
      "\u001b[1;32m~\\AppData\\Roaming\\Python\\Python39\\site-packages\\scipy\\fft\\_backend.py\u001b[0m in \u001b[0;36m__ua_function__\u001b[1;34m(method, args, kwargs)\u001b[0m\n\u001b[0;32m     21\u001b[0m         \u001b[1;32mif\u001b[0m \u001b[0mfn\u001b[0m \u001b[1;32mis\u001b[0m \u001b[1;32mNone\u001b[0m\u001b[1;33m:\u001b[0m\u001b[1;33m\u001b[0m\u001b[1;33m\u001b[0m\u001b[0m\n\u001b[0;32m     22\u001b[0m             \u001b[1;32mreturn\u001b[0m \u001b[0mNotImplemented\u001b[0m\u001b[1;33m\u001b[0m\u001b[1;33m\u001b[0m\u001b[0m\n\u001b[1;32m---> 23\u001b[1;33m         \u001b[1;32mreturn\u001b[0m \u001b[0mfn\u001b[0m\u001b[1;33m(\u001b[0m\u001b[1;33m*\u001b[0m\u001b[0margs\u001b[0m\u001b[1;33m,\u001b[0m \u001b[1;33m**\u001b[0m\u001b[0mkwargs\u001b[0m\u001b[1;33m)\u001b[0m\u001b[1;33m\u001b[0m\u001b[1;33m\u001b[0m\u001b[0m\n\u001b[0m\u001b[0;32m     24\u001b[0m \u001b[1;33m\u001b[0m\u001b[0m\n\u001b[0;32m     25\u001b[0m \u001b[1;33m\u001b[0m\u001b[0m\n",
      "\u001b[1;32m~\\AppData\\Roaming\\Python\\Python39\\site-packages\\scipy\\fft\\_pocketfft\\basic.py\u001b[0m in \u001b[0;36mr2c\u001b[1;34m(forward, x, n, axis, norm, overwrite_x, workers, plan)\u001b[0m\n\u001b[0;32m     60\u001b[0m \u001b[1;33m\u001b[0m\u001b[0m\n\u001b[0;32m     61\u001b[0m     \u001b[1;31m# Note: overwrite_x is not utilised\u001b[0m\u001b[1;33m\u001b[0m\u001b[1;33m\u001b[0m\u001b[1;33m\u001b[0m\u001b[0m\n\u001b[1;32m---> 62\u001b[1;33m     \u001b[1;32mreturn\u001b[0m \u001b[0mpfft\u001b[0m\u001b[1;33m.\u001b[0m\u001b[0mr2c\u001b[0m\u001b[1;33m(\u001b[0m\u001b[0mtmp\u001b[0m\u001b[1;33m,\u001b[0m \u001b[1;33m(\u001b[0m\u001b[0maxis\u001b[0m\u001b[1;33m,\u001b[0m\u001b[1;33m)\u001b[0m\u001b[1;33m,\u001b[0m \u001b[0mforward\u001b[0m\u001b[1;33m,\u001b[0m \u001b[0mnorm\u001b[0m\u001b[1;33m,\u001b[0m \u001b[1;32mNone\u001b[0m\u001b[1;33m,\u001b[0m \u001b[0mworkers\u001b[0m\u001b[1;33m)\u001b[0m\u001b[1;33m\u001b[0m\u001b[1;33m\u001b[0m\u001b[0m\n\u001b[0m\u001b[0;32m     63\u001b[0m \u001b[1;33m\u001b[0m\u001b[0m\n\u001b[0;32m     64\u001b[0m \u001b[1;33m\u001b[0m\u001b[0m\n",
      "\u001b[1;31mKeyboardInterrupt\u001b[0m: "
     ]
    }
   ],
   "source": [
    "fig, ax = plt.subplots(1)\n",
    "plt.ylabel('Frequency [Hz]')\n",
    "plt.xlabel('Time [sec]')\n",
    "plt.show()\n",
    "while True:\n",
    "    data = stream.read(CHUNK)\n",
    "    data_int = (np.array(struct.unpack(str(CHUNK * CHANNELS) + 'h', data))) + 1\n",
    "    f, t, Sxx = signal.spectrogram(data_int)\n",
    "    plt.pcolormesh(t, f, Sxx, shading='gouraud')\n",
    "\n",
    "    "
   ]
  },
  {
   "cell_type": "code",
   "execution_count": null,
   "id": "3676f41a",
   "metadata": {},
   "outputs": [],
   "source": [
    "from ctypes import cast, POINTER\n",
    "from comtypes import CLSCTX_ALL\n",
    "from pycaw.pycaw import AudioUtilities, IAudioEndpointVolume\n",
    "import math\n"
   ]
  },
  {
   "cell_type": "code",
   "execution_count": null,
   "id": "0d3ba5f5",
   "metadata": {},
   "outputs": [],
   "source": [
    "devices = AudioUtilities.GetSpeakers()\n",
    "interface = devices.Activate(\n",
    "    IAudioEndpointVolume._iid_, CLSCTX_ALL, None)\n",
    "volume = cast(interface, POINTER(IAudioEndpointVolume))\n",
    "\n",
    "currentVolumeDb = volume.GetMasterVolumeLevel()\n",
    "print(currentVolumeDb)"
   ]
  }
 ],
 "metadata": {
  "kernelspec": {
   "display_name": "Python 3 (ipykernel)",
   "language": "python",
   "name": "python3"
  },
  "language_info": {
   "codemirror_mode": {
    "name": "ipython",
    "version": 3
   },
   "file_extension": ".py",
   "mimetype": "text/x-python",
   "name": "python",
   "nbconvert_exporter": "python",
   "pygments_lexer": "ipython3",
   "version": "3.9.6"
  }
 },
 "nbformat": 4,
 "nbformat_minor": 5
}
